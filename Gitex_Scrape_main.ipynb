{
 "cells": [
  {
   "cell_type": "code",
   "execution_count": 10,
   "id": "7e1158a0",
   "metadata": {},
   "outputs": [],
   "source": [
    "import requests\n",
    "import json\n",
    "from bs4 import BeautifulSoup\n",
    "import time\n",
    "import csv\n",
    "import urllib3\n",
    "from requests_html import HTMLSession\n",
    "from urllib.request import urlopen\n",
    "from selenium import webdriver\n",
    "from selenium.webdriver.common.keys import Keys\n",
    "from selenium.webdriver.common.by import By"
   ]
  },
  {
   "cell_type": "markdown",
   "id": "66e504a5",
   "metadata": {},
   "source": [
    "### Opening the saved html file "
   ]
  },
  {
   "cell_type": "code",
   "execution_count": 17,
   "id": "5c9a4447",
   "metadata": {},
   "outputs": [],
   "source": [
    "with open(\"gitex_global.html\", encoding='utf-8') as file:\n",
    "    soup = BeautifulSoup(file, 'lxml')"
   ]
  },
  {
   "cell_type": "markdown",
   "id": "c5af128f",
   "metadata": {},
   "source": [
    "### Storing the div containers for different companies in a list"
   ]
  },
  {
   "cell_type": "code",
   "execution_count": 5,
   "id": "b4d57854",
   "metadata": {},
   "outputs": [],
   "source": [
    "divs = soup.find_all(\"div\", class_=\"item col-12 list-group-item\")"
   ]
  },
  {
   "cell_type": "code",
   "execution_count": 6,
   "id": "1edc2da6",
   "metadata": {},
   "outputs": [
    {
     "data": {
      "text/plain": [
       "<div class=\"item col-12 list-group-item\" style=\" \">\n",
       "<div class=\"thumbnail\">\n",
       "<div class=\"row\">\n",
       "<div class=\"img-event col-sm-3 col-md-2 col-12\">\n",
       "<div class=\"img_event_box\">\n",
       "<img abudawood=\"\" alt=\"\" class=\"group list-group-image img-fluid\" src=\"https://exhibitor-manual-004.s3.ap-south-1.amazonaws.com/Production/exb_doc/2002/5266/thumb_2002_5266_5154_8446.png\"/>\n",
       "</div>\n",
       "</div>\n",
       "<div class=\"item_heading col-sm-5 col-md-6 col-12\">\n",
       "<h4 class=\"heading\" style=\"\">\n",
       "\t\t\t\t\t\t\t\tBIMSER </h4>\n",
       "<div class=\"head_discription\">\n",
       "<div class=\"web\">\n",
       "<p style=\"margin-bottom:0;\"> Stand No- H1-E80, Hall No- Hall 1</p>\n",
       "<p style=\"min-height:27px;margin-bottom:0;\">\n",
       "<span style=\"line-height:22px; font-size: 12px; font-weight: 600; float:left;\">United Arab Emirates</span>\n",
       "</p>\n",
       "<p class=\"list-group-item-text\"><span style=\"\">BIMSER Turkish IT software leader, serving 2000+ companies, exports to 33+ countries, offers integrated solutions for digitalization &amp; competitiveness </span>\n",
       "</p>\n",
       "</div>\n",
       "<div class=\"sector_block_outer\">\n",
       "<ul class=\"sector_block\"><li style=\" \">Regulatory Technology</li><li style=\" \">Software Services</li><li style=\" \">Big Data &amp; Analytics</li><li style=\" \">Cloud Services</li><li style=\" \">Coding and Development</li></ul>\n",
       "</div>\n",
       "</div>\n",
       "</div>\n",
       "<div class=\"caption col-sm-4 col-md-4 col-12 text-end\">\n",
       "<div class=\"button_block text-right\">\n",
       "<a class=\"btn\" data-=\"\" data-type=\"a\" href=\"https://exhibitors.gitex.com/gitex-global-2023/Exhibitor/ExbDetails/Mjk4MQ==\" style=\"font-size:12px!important;    \">VIEW PROFILE</a>\n",
       "</div>\n",
       "<div class=\"float-right col-sm-4 pt-2 pr-0\"><img class=\"group list-group-image img-fluid\" src=\"https://exhibitor-manual-004.s3.ap-south-1.amazonaws.com/Production/media/2002/GITEX-GLOBAL-logo-for-list.png\"/></div>\n",
       "</div>\n",
       "</div>\n",
       "</div>\n",
       "</div>"
      ]
     },
     "execution_count": 6,
     "metadata": {},
     "output_type": "execute_result"
    }
   ],
   "source": [
    "# Checking if we are getting any result\n",
    "divs[207]"
   ]
  },
  {
   "cell_type": "markdown",
   "id": "a848c590",
   "metadata": {},
   "source": [
    "#### Starting driver for getting the links from the profile"
   ]
  },
  {
   "cell_type": "code",
   "execution_count": 30,
   "id": "43d306f3",
   "metadata": {},
   "outputs": [],
   "source": [
    "options = webdriver.FirefoxOptions()\n",
    "driver = webdriver.Firefox(options=options)"
   ]
  },
  {
   "cell_type": "markdown",
   "id": "b34ff5c9",
   "metadata": {},
   "source": [
    "#### Writing contents to the csv file"
   ]
  },
  {
   "cell_type": "code",
   "execution_count": 31,
   "id": "470aeff4",
   "metadata": {},
   "outputs": [],
   "source": [
    "div_no = 0\n",
    "with open(\"gitex_exhibitors_list.csv\", mode='w', newline='', encoding='utf-8') as csv_file:\n",
    "    # Define the CSV writer\n",
    "    csv_writer = csv.writer(csv_file)\n",
    "\n",
    "    # Write the header row with field names\n",
    "    csv_writer.writerow(['name', 'country', 'about', 'product_sectors', 'event', 'profile_link', 'website_link', 'linkedin_link'])\n",
    "\n",
    "    # Extract data and write to CSV\n",
    "    divs = soup.find_all(\"div\", class_=\"item col-12 list-group-item\")\n",
    "    for count, row in enumerate(divs[3594:],3594):\n",
    "        name = ' '.join(row.find(\"h4\",class_=\"heading\").stripped_strings)\n",
    "        country = ' '.join(row.find(\"p\", style=\"min-height:27px;margin-bottom:0;\").stripped_strings)\n",
    "        about = ' '.join(row.find(\"p\", class_=\"list-group-item-text\").stripped_strings)\n",
    "        product_sectors = ','.join(row.find(\"div\", class_=\"sector_block_outer\").stripped_strings)\n",
    "        event = row.find(\"div\", class_= \"float-right col-sm-4 pt-2 pr-0\").find(\"img\").get('src')[-40:]\n",
    "        if 'GITEX-GLOBAL-logo-for-list.png' in event:\n",
    "            event = \"GITEX-GLOBAL-logo-for-list.png\"\n",
    "        elif \"DevSlamMania-for-list.png\" in event:\n",
    "            event = \"DevSlamMania-for-list.png\"\n",
    "        elif \"Urbanism-for-list.png\" in event:\n",
    "            event = \"Urbanism-for-list.png\"\n",
    "        elif \"GITEX-Impact-for-list.png\" in event:\n",
    "            event = \"GITEX-Impact-for-list.png\"\n",
    "        elif \"North-Star-for-list.png\" in event:\n",
    "            event = \"North-Star-for-list.png\"\n",
    "        else:\n",
    "            event = \"None\"\n",
    "        profile_link = row.find(\"a\",class_ = \"btn\").get('href')\n",
    "        driver.implicitly_wait(3)\n",
    "        driver.get(profile_link)\n",
    "        time.sleep(2)\n",
    "        profile_page = BeautifulSoup(driver.page_source, 'lxml')\n",
    "        try:\n",
    "            website_link = profile_page.find(\"li\", class_=\"social_website\").find('a').get('href')\n",
    "        except:\n",
    "            website_link = \"NULL\"\n",
    "        try:\n",
    "            linkedin_link = profile_page.find(\"a\", class_=\"linkdin_link\").get('href')\n",
    "        except AttributeError:\n",
    "            linkedin_link = \"NULL\"\n",
    "        \n",
    "        # Write the data to the CSV file\n",
    "        csv_writer.writerow([name, country, about, product_sectors, event, profile_link, website_link, linkedin_link])\n",
    "        \n",
    "        # Saving the last record no\n",
    "        div_no = count\n"
   ]
  },
  {
   "cell_type": "code",
   "execution_count": 32,
   "id": "67bfd656",
   "metadata": {},
   "outputs": [
    {
     "data": {
      "text/plain": [
       "3794"
      ]
     },
     "execution_count": 32,
     "metadata": {},
     "output_type": "execute_result"
    }
   ],
   "source": [
    "div_no"
   ]
  },
  {
   "cell_type": "code",
   "execution_count": 26,
   "id": "8594ad19",
   "metadata": {},
   "outputs": [],
   "source": [
    "driver.quit()"
   ]
  },
  {
   "cell_type": "markdown",
   "id": "10312ba7",
   "metadata": {},
   "source": [
    "#### Company's Name"
   ]
  },
  {
   "cell_type": "code",
   "execution_count": 37,
   "id": "c5902eba",
   "metadata": {},
   "outputs": [
    {
     "data": {
      "text/plain": [
       "'2023 INCUBE'"
      ]
     },
     "execution_count": 37,
     "metadata": {},
     "output_type": "execute_result"
    }
   ],
   "source": [
    "name = ' '.join(divs[5].find(\"h4\",class_=\"heading\").stripped_strings)\n",
    "name"
   ]
  },
  {
   "cell_type": "markdown",
   "id": "c32086b7",
   "metadata": {},
   "source": [
    "#### Company's origin country"
   ]
  },
  {
   "cell_type": "code",
   "execution_count": 36,
   "id": "6ed68fdc",
   "metadata": {},
   "outputs": [
    {
     "data": {
      "text/plain": [
       "'United Arab Emirates'"
      ]
     },
     "execution_count": 36,
     "metadata": {},
     "output_type": "execute_result"
    }
   ],
   "source": [
    "country = ' '.join(divs[5].find(\"p\", style=\"min-height:27px;margin-bottom:0;\").stripped_strings)\n",
    "country"
   ]
  },
  {
   "cell_type": "markdown",
   "id": "9e5885fc",
   "metadata": {},
   "source": [
    "#### About company's details"
   ]
  },
  {
   "cell_type": "code",
   "execution_count": 38,
   "id": "d4d435f1",
   "metadata": {},
   "outputs": [
    {
     "data": {
      "text/plain": [
       "'We offer the best software,top line of mobile hardware, and the most trustworthy expertise in the technological supply chain and logistics industry'"
      ]
     },
     "execution_count": 38,
     "metadata": {},
     "output_type": "execute_result"
    }
   ],
   "source": [
    "about = ' '.join(divs[5].find(\"p\", class_=\"list-group-item-text\").stripped_strings)\n",
    "about"
   ]
  },
  {
   "cell_type": "markdown",
   "id": "27750431",
   "metadata": {},
   "source": [
    "#### Product sector the company belongs to"
   ]
  },
  {
   "cell_type": "code",
   "execution_count": 41,
   "id": "a68ea9fe",
   "metadata": {},
   "outputs": [
    {
     "data": {
      "text/plain": [
       "'Artificial Intelligence,Blockchain,Coding and Development,Consumer Tech, Smart Home & Smart Workplace,HealthTech'"
      ]
     },
     "execution_count": 41,
     "metadata": {},
     "output_type": "execute_result"
    }
   ],
   "source": [
    "product_sectors = ','.join(divs[5].find(\"div\", class_=\"sector_block_outer\").stripped_strings)\n",
    "product_sectors"
   ]
  },
  {
   "cell_type": "markdown",
   "id": "6c021513",
   "metadata": {},
   "source": [
    "#### Event "
   ]
  },
  {
   "cell_type": "code",
   "execution_count": 74,
   "id": "bef40fbe",
   "metadata": {},
   "outputs": [
    {
     "data": {
      "text/plain": [
       "'GITEX-GLOBAL-logo-for-list.png'"
      ]
     },
     "execution_count": 74,
     "metadata": {},
     "output_type": "execute_result"
    }
   ],
   "source": [
    "event = divs[5].find(\"div\", class_= \"float-right col-sm-4 pt-2 pr-0\").find(\"img\").get('src')[-40:]\n",
    "if 'GITEX-GLOBAL-logo-for-list.png' in event:\n",
    "    event = \"GITEX-GLOBAL-logo-for-list.png\"\n",
    "elif \"DevSlamMania-for-list.png\" in event:\n",
    "    event = \"DevSlamMania-for-list.png\"\n",
    "elif \"Urbanism-for-list.png\" in event:\n",
    "    event = \"Urbanism-for-list.png\"\n",
    "elif \"GITEX-Impact-for-list.png\" in event:\n",
    "    event = \"GITEX-Impact-for-list.png\"\n",
    "elif \"North-Star-for-list.png\" in event:\n",
    "    event = \"North-Star-for-list.png\"\n",
    "else:\n",
    "    event = \"None\"\n",
    "event"
   ]
  },
  {
   "cell_type": "markdown",
   "id": "2e66083b",
   "metadata": {},
   "source": [
    "#### Profile Link"
   ]
  },
  {
   "cell_type": "code",
   "execution_count": 132,
   "id": "68b35d5f",
   "metadata": {},
   "outputs": [
    {
     "data": {
      "text/plain": [
       "'https://exhibitors.gitex.com/gitex-global-2023/Exhibitor/ExbDetails/MzU5OA=='"
      ]
     },
     "execution_count": 132,
     "metadata": {},
     "output_type": "execute_result"
    }
   ],
   "source": [
    "profile_link = divs[8].find(\"a\",class_ = \"btn\").get('href')\n",
    "profile_link"
   ]
  },
  {
   "cell_type": "code",
   "execution_count": 76,
   "id": "b0dc2d27",
   "metadata": {},
   "outputs": [],
   "source": [
    "options = webdriver.FirefoxOptions()\n",
    "driver = webdriver.Firefox(options=options)"
   ]
  },
  {
   "cell_type": "markdown",
   "id": "a8d3d255",
   "metadata": {},
   "source": [
    "#### To get website link from profile"
   ]
  },
  {
   "cell_type": "code",
   "execution_count": 133,
   "id": "ba7b9f79",
   "metadata": {},
   "outputs": [],
   "source": [
    "driver.get(profile_link)\n",
    "profile_page = BeautifulSoup(driver.page_source, 'lxml')\n",
    "try:\n",
    "    website_link = profile_page.find(\"li\", class_=\"social_website\").find('a').get('href')\n",
    "except:\n",
    "    website_link = \"NULL\""
   ]
  },
  {
   "cell_type": "markdown",
   "id": "ed2eda2d",
   "metadata": {},
   "source": [
    "#### For linkedin link"
   ]
  },
  {
   "cell_type": "code",
   "execution_count": null,
   "id": "272cfe17",
   "metadata": {},
   "outputs": [],
   "source": [
    "try:\n",
    "    linkedin_link = profile_page.find(\"a\", class_=\"linkdin_link\").get('href')\n",
    "except AttributeError:\n",
    "    linkedin_link = \"NULL\"\n",
    "linkedin_link"
   ]
  },
  {
   "cell_type": "code",
   "execution_count": 139,
   "id": "bdf4fb9c",
   "metadata": {},
   "outputs": [],
   "source": [
    "driver.quit()"
   ]
  },
  {
   "cell_type": "code",
   "execution_count": null,
   "id": "7325c742",
   "metadata": {},
   "outputs": [],
   "source": []
  }
 ],
 "metadata": {
  "kernelspec": {
   "display_name": "Python 3 (ipykernel)",
   "language": "python",
   "name": "python3"
  },
  "language_info": {
   "codemirror_mode": {
    "name": "ipython",
    "version": 3
   },
   "file_extension": ".py",
   "mimetype": "text/x-python",
   "name": "python",
   "nbconvert_exporter": "python",
   "pygments_lexer": "ipython3",
   "version": "3.9.7"
  }
 },
 "nbformat": 4,
 "nbformat_minor": 5
}
